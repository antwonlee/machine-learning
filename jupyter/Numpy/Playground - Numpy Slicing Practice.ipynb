{
 "cells": [
  {
   "cell_type": "code",
   "execution_count": 1,
   "metadata": {
    "collapsed": true
   },
   "outputs": [],
   "source": [
    "import numpy as np"
   ]
  },
  {
   "cell_type": "code",
   "execution_count": 13,
   "metadata": {
    "collapsed": true
   },
   "outputs": [],
   "source": [
    "a = np.random.uniform(size=(10, 5))"
   ]
  },
  {
   "cell_type": "code",
   "execution_count": 14,
   "metadata": {},
   "outputs": [
    {
     "data": {
      "text/plain": [
       "array([[ 0.50610192,  0.86896471,  0.38190261,  0.71401392,  0.93096976],\n",
       "       [ 0.17926019,  0.45374751,  0.95256788,  0.05878559,  0.12010502],\n",
       "       [ 0.85353691,  0.24993598,  0.14063317,  0.64846646,  0.40409039],\n",
       "       [ 0.05790715,  0.97189713,  0.31661762,  0.59039009,  0.12241594],\n",
       "       [ 0.23420784,  0.31755396,  0.38322432,  0.79740684,  0.60478535],\n",
       "       [ 0.12255639,  0.47945496,  0.42949319,  0.22469487,  0.14908483],\n",
       "       [ 0.51826073,  0.03357086,  0.47101876,  0.5128335 ,  0.79201529],\n",
       "       [ 0.53799923,  0.61338769,  0.23684674,  0.20459728,  0.6218164 ],\n",
       "       [ 0.7787664 ,  0.91105991,  0.55598439,  0.26240593,  0.33542143],\n",
       "       [ 0.50752841,  0.80376421,  0.97703512,  0.12807028,  0.54709168]])"
      ]
     },
     "execution_count": 14,
     "metadata": {},
     "output_type": "execute_result"
    }
   ],
   "source": [
    "a"
   ]
  },
  {
   "cell_type": "code",
   "execution_count": 16,
   "metadata": {
    "scrolled": true
   },
   "outputs": [
    {
     "data": {
      "text/plain": [
       "0.45374750518747986"
      ]
     },
     "execution_count": 16,
     "metadata": {},
     "output_type": "execute_result"
    }
   ],
   "source": [
    "a[1,1]"
   ]
  },
  {
   "cell_type": "code",
   "execution_count": 17,
   "metadata": {},
   "outputs": [
    {
     "data": {
      "text/plain": [
       "0.50610192366780637"
      ]
     },
     "execution_count": 17,
     "metadata": {},
     "output_type": "execute_result"
    }
   ],
   "source": [
    "a[0,0]"
   ]
  },
  {
   "cell_type": "code",
   "execution_count": 20,
   "metadata": {},
   "outputs": [
    {
     "data": {
      "text/plain": [
       "0.93096976074473847"
      ]
     },
     "execution_count": 20,
     "metadata": {},
     "output_type": "execute_result"
    }
   ],
   "source": [
    "a[0, -1]"
   ]
  },
  {
   "cell_type": "code",
   "execution_count": 23,
   "metadata": {},
   "outputs": [
    {
     "data": {
      "text/plain": [
       "array([ 0.50610192,  0.86896471,  0.38190261,  0.71401392,  0.93096976])"
      ]
     },
     "execution_count": 23,
     "metadata": {},
     "output_type": "execute_result"
    }
   ],
   "source": [
    "a[0,:]"
   ]
  },
  {
   "cell_type": "code",
   "execution_count": 30,
   "metadata": {},
   "outputs": [
    {
     "data": {
      "text/plain": [
       "array([ 0.24993598,  0.97189713])"
      ]
     },
     "execution_count": 30,
     "metadata": {},
     "output_type": "execute_result"
    }
   ],
   "source": [
    "a[2:4, 1]"
   ]
  },
  {
   "cell_type": "code",
   "execution_count": 29,
   "metadata": {},
   "outputs": [
    {
     "data": {
      "text/plain": [
       "array([ 0.24993598,  0.14063317])"
      ]
     },
     "execution_count": 29,
     "metadata": {},
     "output_type": "execute_result"
    }
   ],
   "source": [
    "a[2, 1:3]"
   ]
  },
  {
   "cell_type": "code",
   "execution_count": 31,
   "metadata": {
    "collapsed": true
   },
   "outputs": [],
   "source": [
    "a[a < 0.5] = 100"
   ]
  },
  {
   "cell_type": "code",
   "execution_count": 32,
   "metadata": {},
   "outputs": [
    {
     "data": {
      "text/plain": [
       "array([[   0.50610192,    0.86896471,  100.        ,    0.71401392,\n",
       "           0.93096976],\n",
       "       [ 100.        ,  100.        ,    0.95256788,  100.        ,  100.        ],\n",
       "       [   0.85353691,  100.        ,  100.        ,    0.64846646,  100.        ],\n",
       "       [ 100.        ,    0.97189713,  100.        ,    0.59039009,  100.        ],\n",
       "       [ 100.        ,  100.        ,  100.        ,    0.79740684,\n",
       "           0.60478535],\n",
       "       [ 100.        ,  100.        ,  100.        ,  100.        ,  100.        ],\n",
       "       [   0.51826073,  100.        ,  100.        ,    0.5128335 ,\n",
       "           0.79201529],\n",
       "       [   0.53799923,    0.61338769,  100.        ,  100.        ,\n",
       "           0.6218164 ],\n",
       "       [   0.7787664 ,    0.91105991,    0.55598439,  100.        ,  100.        ],\n",
       "       [   0.50752841,    0.80376421,    0.97703512,  100.        ,\n",
       "           0.54709168]])"
      ]
     },
     "execution_count": 32,
     "metadata": {},
     "output_type": "execute_result"
    }
   ],
   "source": [
    "a"
   ]
  },
  {
   "cell_type": "code",
   "execution_count": 33,
   "metadata": {
    "collapsed": true
   },
   "outputs": [],
   "source": [
    "one = np.random.uniform(size=(3,2))"
   ]
  },
  {
   "cell_type": "code",
   "execution_count": 34,
   "metadata": {
    "collapsed": true
   },
   "outputs": [],
   "source": [
    "two = np.random.uniform(size=(3,2))"
   ]
  },
  {
   "cell_type": "code",
   "execution_count": 35,
   "metadata": {},
   "outputs": [
    {
     "data": {
      "text/plain": [
       "array([[ 0.25553977,  0.17421019],\n",
       "       [ 0.50567967,  0.8707095 ],\n",
       "       [ 0.20316233,  0.92985828]])"
      ]
     },
     "execution_count": 35,
     "metadata": {},
     "output_type": "execute_result"
    }
   ],
   "source": [
    "one"
   ]
  },
  {
   "cell_type": "code",
   "execution_count": 36,
   "metadata": {},
   "outputs": [
    {
     "data": {
      "text/plain": [
       "array([[ 0.87576521,  0.11194237],\n",
       "       [ 0.72248321,  0.60858552],\n",
       "       [ 0.67787691,  0.62713406]])"
      ]
     },
     "execution_count": 36,
     "metadata": {},
     "output_type": "execute_result"
    }
   ],
   "source": [
    "two"
   ]
  },
  {
   "cell_type": "code",
   "execution_count": 38,
   "metadata": {},
   "outputs": [],
   "source": [
    "one[two < 0.5] = -1"
   ]
  },
  {
   "cell_type": "code",
   "execution_count": 39,
   "metadata": {},
   "outputs": [
    {
     "data": {
      "text/plain": [
       "array([[ 0.25553977, -1.        ],\n",
       "       [ 0.50567967,  0.8707095 ],\n",
       "       [ 0.20316233,  0.92985828]])"
      ]
     },
     "execution_count": 39,
     "metadata": {},
     "output_type": "execute_result"
    }
   ],
   "source": [
    "one"
   ]
  },
  {
   "cell_type": "code",
   "execution_count": null,
   "metadata": {
    "collapsed": true
   },
   "outputs": [],
   "source": []
  }
 ],
 "metadata": {
  "kernelspec": {
   "display_name": "Python 3",
   "language": "python",
   "name": "python3"
  },
  "language_info": {
   "codemirror_mode": {
    "name": "ipython",
    "version": 3
   },
   "file_extension": ".py",
   "mimetype": "text/x-python",
   "name": "python",
   "nbconvert_exporter": "python",
   "pygments_lexer": "ipython3",
   "version": "3.6.4"
  }
 },
 "nbformat": 4,
 "nbformat_minor": 2
}
